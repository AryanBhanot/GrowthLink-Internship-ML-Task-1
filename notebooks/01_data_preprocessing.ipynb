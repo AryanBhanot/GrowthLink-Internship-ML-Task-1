{
 "cells": [
  {
   "cell_type": "code",
   "execution_count": null,
   "id": "a8214961",
   "metadata": {},
   "outputs": [],
   "source": [
    "# 01_data_preprocessing.ipynb\n",
    "\n",
    "import pandas as pd\n",
    "from src.data_loader import load_training_data\n",
    "from src.preprocessing import clean_text, get_tfidf_features\n",
    "\n",
    "# Load data\n",
    "train_df = load_training_data('../data/train_data.txt')\n",
    "print(train_df.head())\n",
    "\n",
    "# Clean plots\n",
    "train_df['clean_plot'] = train_df['plot'].apply(clean_text)\n",
    "\n",
    "# Extract TF-IDF features\n",
    "X, tfidf_vectorizer = get_tfidf_features(train_df['clean_plot'])\n",
    "y = train_df['genre']\n",
    "\n",
    "# Save preprocessed data\n",
    "import pickle\n",
    "with open('../data/tfidf_vectorizer.pkl', 'wb') as f:\n",
    "    pickle.dump(tfidf_vectorizer, f)\n",
    "\n",
    "train_df.to_csv('../data/clean_train_data.csv', index=False)"
   ]
  }
 ],
 "metadata": {
  "kernelspec": {
   "display_name": "Python 3",
   "language": "python",
   "name": "python3"
  },
  "language_info": {
   "name": "python",
   "version": "3.9.12"
  }
 },
 "nbformat": 4,
 "nbformat_minor": 5
}
