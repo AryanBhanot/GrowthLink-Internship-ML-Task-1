{
 "cells": [
  {
   "cell_type": "code",
   "execution_count": null,
   "id": "2d59deb6",
   "metadata": {},
   "outputs": [],
   "source": [
    "# 02_model_training.ipynb\n",
    "\n",
    "import pickle\n",
    "import pandas as pd\n",
    "from sklearn.model_selection import train_test_split\n",
    "from src.models import get_classifiers\n",
    "from src.evaluate import evaluate_model\n",
    "\n",
    "# Load clean data\n",
    "train_df = pd.read_csv('../data/clean_train_data.csv')\n",
    "X = pickle.load(open('../data/tfidf_vectorizer.pkl', 'rb')).transform(train_df['clean_plot'])\n",
    "y = train_df['genre']\n",
    "\n",
    "# Split\n",
    "X_train, X_val, y_train, y_val = train_test_split(X, y, test_size=0.2, random_state=42)\n",
    "\n",
    "# Train models\n",
    "models = get_classifiers()\n",
    "for name, model in models.items():\n",
    "    print(f\"Training {name}...\")\n",
    "    model.fit(X_train, y_train)\n",
    "    print(f\"Results for {name}:\")\n",
    "    evaluate_model(model, X_val, y_val)\n",
    "    print(\"-\" * 80)"
   ]
  }
 ],
 "metadata": {
  "kernelspec": {
   "display_name": "Python 3",
   "language": "python",
   "name": "python3"
  },
  "language_info": {
   "name": "python",
   "version": "3.9.12"
  }
 },
 "nbformat": 4,
 "nbformat_minor": 5
}
